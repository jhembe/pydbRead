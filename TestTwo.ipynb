{
 "cells": [
  {
   "cell_type": "code",
   "execution_count": 1,
   "id": "bec543ee-3435-456f-a890-80b5f007233b",
   "metadata": {},
   "outputs": [],
   "source": [
    "import pyodbc\n",
    "import numpy as np\n",
    "import pandas as pd"
   ]
  },
  {
   "cell_type": "code",
   "execution_count": 2,
   "id": "ebbf791b-4a1b-403a-8a93-fe6ce64cea32",
   "metadata": {},
   "outputs": [],
   "source": [
    "conn = pyodbc.connect(r'DRIVER={Microsoft Access Driver (*.mdb, *.accdb)};DBQ=C:\\Users\\jhemb\\Desktop\\seha2731.mdb')"
   ]
  },
  {
   "cell_type": "code",
   "execution_count": 39,
   "id": "6d97738d-c8e7-40d2-89ac-576d49debb9e",
   "metadata": {},
   "outputs": [
    {
     "data": {
      "text/plain": [
       "<pyodbc.Cursor at 0x214855177b0>"
      ]
     },
     "execution_count": 39,
     "metadata": {},
     "output_type": "execute_result"
    }
   ],
   "source": [
    "cursor = conn.cursor()\n",
    "cursor.execute('SELECT tblPatients.PatientID, tblPatients.Sex, tblPatients.MaritalStatus, tblVisits.VisitDate FROM tblPatients INNER JOIN tblVisits ON tblPatients.PatientID = tblVisits.PatientID WHERE tblVisits.ARVStatusCode = 2 AND (((tblVisits.VisitDate)>=#1/10/2022#) AND ((tblVisits.VisitDate)<=#30/6/2023#));')\n",
    "# cursor.execute('SELECT tblPatients.MaritalStatus,tblFamilyInfo.RelativeType FROM tblPatients INNER JOIN tblFamilyInfo ON tblPatients.patientID = tblFamilyInfo.patientID;')"
   ]
  },
  {
   "cell_type": "code",
   "execution_count": 40,
   "id": "78163b65-7b76-4f75-bc46-c17d6c38e952",
   "metadata": {},
   "outputs": [
    {
     "data": {
      "text/plain": [
       "['PatientID', 'Sex', 'MaritalStatus', 'VisitDate']"
      ]
     },
     "execution_count": 40,
     "metadata": {},
     "output_type": "execute_result"
    }
   ],
   "source": [
    "data = np.array(cursor.fetchall())\n",
    "column_names = [desc[0] for desc in cursor.description]\n",
    "column_names"
   ]
  },
  {
   "cell_type": "code",
   "execution_count": 41,
   "id": "52fc8561-66ab-4048-9fd3-350ac032f9d4",
   "metadata": {},
   "outputs": [],
   "source": [
    "df = pd.DataFrame(data,columns=column_names)"
   ]
  },
  {
   "cell_type": "code",
   "execution_count": 42,
   "id": "cb9fab21-46b6-4ab7-a064-e8d1f19616c4",
   "metadata": {},
   "outputs": [
    {
     "data": {
      "text/html": [
       "<div>\n",
       "<style scoped>\n",
       "    .dataframe tbody tr th:only-of-type {\n",
       "        vertical-align: middle;\n",
       "    }\n",
       "\n",
       "    .dataframe tbody tr th {\n",
       "        vertical-align: top;\n",
       "    }\n",
       "\n",
       "    .dataframe thead th {\n",
       "        text-align: right;\n",
       "    }\n",
       "</style>\n",
       "<table border=\"1\" class=\"dataframe\">\n",
       "  <thead>\n",
       "    <tr style=\"text-align: right;\">\n",
       "      <th></th>\n",
       "      <th>PatientID</th>\n",
       "      <th>Sex</th>\n",
       "      <th>MaritalStatus</th>\n",
       "      <th>VisitDate</th>\n",
       "    </tr>\n",
       "  </thead>\n",
       "  <tbody>\n",
       "    <tr>\n",
       "      <th>0</th>\n",
       "      <td>02-01-0100-001472</td>\n",
       "      <td>Female</td>\n",
       "      <td>S</td>\n",
       "      <td>2023-06-02</td>\n",
       "    </tr>\n",
       "    <tr>\n",
       "      <th>1</th>\n",
       "      <td>02-02-0122-003028</td>\n",
       "      <td>Female</td>\n",
       "      <td>None</td>\n",
       "      <td>2022-05-13</td>\n",
       "    </tr>\n",
       "    <tr>\n",
       "      <th>2</th>\n",
       "      <td>02-02-0200-003397</td>\n",
       "      <td>Female</td>\n",
       "      <td>M</td>\n",
       "      <td>2022-07-22</td>\n",
       "    </tr>\n",
       "    <tr>\n",
       "      <th>3</th>\n",
       "      <td>02-02-0200-008930</td>\n",
       "      <td>Male</td>\n",
       "      <td>M</td>\n",
       "      <td>2022-01-10</td>\n",
       "    </tr>\n",
       "    <tr>\n",
       "      <th>4</th>\n",
       "      <td>02-02-0200-008931</td>\n",
       "      <td>Female</td>\n",
       "      <td>W</td>\n",
       "      <td>2022-01-11</td>\n",
       "    </tr>\n",
       "    <tr>\n",
       "      <th>...</th>\n",
       "      <td>...</td>\n",
       "      <td>...</td>\n",
       "      <td>...</td>\n",
       "      <td>...</td>\n",
       "    </tr>\n",
       "    <tr>\n",
       "      <th>314</th>\n",
       "      <td>02-02-0200-009246</td>\n",
       "      <td>Female</td>\n",
       "      <td>S</td>\n",
       "      <td>2023-06-30</td>\n",
       "    </tr>\n",
       "    <tr>\n",
       "      <th>315</th>\n",
       "      <td>03-01-0116-000009</td>\n",
       "      <td>Female</td>\n",
       "      <td>S</td>\n",
       "      <td>2022-10-17</td>\n",
       "    </tr>\n",
       "    <tr>\n",
       "      <th>316</th>\n",
       "      <td>07-01-0206-000368</td>\n",
       "      <td>Female</td>\n",
       "      <td>C</td>\n",
       "      <td>2023-02-28</td>\n",
       "    </tr>\n",
       "    <tr>\n",
       "      <th>317</th>\n",
       "      <td>13-01-0100-000346</td>\n",
       "      <td>Female</td>\n",
       "      <td>M</td>\n",
       "      <td>2022-09-29</td>\n",
       "    </tr>\n",
       "    <tr>\n",
       "      <th>318</th>\n",
       "      <td>20-06-0126-000749</td>\n",
       "      <td>Female</td>\n",
       "      <td>S</td>\n",
       "      <td>2023-06-06</td>\n",
       "    </tr>\n",
       "  </tbody>\n",
       "</table>\n",
       "<p>319 rows × 4 columns</p>\n",
       "</div>"
      ],
      "text/plain": [
       "             PatientID     Sex MaritalStatus  VisitDate\n",
       "0    02-01-0100-001472  Female             S 2023-06-02\n",
       "1    02-02-0122-003028  Female          None 2022-05-13\n",
       "2    02-02-0200-003397  Female             M 2022-07-22\n",
       "3    02-02-0200-008930    Male             M 2022-01-10\n",
       "4    02-02-0200-008931  Female             W 2022-01-11\n",
       "..                 ...     ...           ...        ...\n",
       "314  02-02-0200-009246  Female             S 2023-06-30\n",
       "315  03-01-0116-000009  Female             S 2022-10-17\n",
       "316  07-01-0206-000368  Female             C 2023-02-28\n",
       "317  13-01-0100-000346  Female             M 2022-09-29\n",
       "318  20-06-0126-000749  Female             S 2023-06-06\n",
       "\n",
       "[319 rows x 4 columns]"
      ]
     },
     "execution_count": 42,
     "metadata": {},
     "output_type": "execute_result"
    }
   ],
   "source": [
    "df"
   ]
  },
  {
   "cell_type": "code",
   "execution_count": 43,
   "id": "4d715522-c2b1-42c9-b80b-58192553e7a6",
   "metadata": {},
   "outputs": [
    {
     "data": {
      "text/plain": [
       "Female    212\n",
       "Male      107\n",
       "Name: Sex, dtype: int64"
      ]
     },
     "execution_count": 43,
     "metadata": {},
     "output_type": "execute_result"
    }
   ],
   "source": [
    "df['Sex'].value_counts()"
   ]
  },
  {
   "cell_type": "code",
   "execution_count": 44,
   "id": "8bdac00f-7218-4cc2-8d2b-4af40ae44aa9",
   "metadata": {},
   "outputs": [
    {
     "data": {
      "text/plain": [
       "M     197\n",
       "S      42\n",
       "D      22\n",
       "C      17\n",
       "W      14\n",
       "CO      2\n",
       "Name: MaritalStatus, dtype: int64"
      ]
     },
     "execution_count": 44,
     "metadata": {},
     "output_type": "execute_result"
    }
   ],
   "source": [
    "df['MaritalStatus'].value_counts()"
   ]
  },
  {
   "cell_type": "code",
   "execution_count": 46,
   "id": "6b1797f1-0518-419d-ada0-2e22ccea985b",
   "metadata": {},
   "outputs": [],
   "source": [
    "# Now i need to know how many females who started treatments are maried\n",
    "filtered_df = df[(df['MaritalStatus'] == 'M') & (df['Sex'] == 'Female')]"
   ]
  },
  {
   "cell_type": "code",
   "execution_count": 47,
   "id": "943d0133-3013-4feb-976f-cc5a452d0a9f",
   "metadata": {},
   "outputs": [
    {
     "data": {
      "text/html": [
       "<div>\n",
       "<style scoped>\n",
       "    .dataframe tbody tr th:only-of-type {\n",
       "        vertical-align: middle;\n",
       "    }\n",
       "\n",
       "    .dataframe tbody tr th {\n",
       "        vertical-align: top;\n",
       "    }\n",
       "\n",
       "    .dataframe thead th {\n",
       "        text-align: right;\n",
       "    }\n",
       "</style>\n",
       "<table border=\"1\" class=\"dataframe\">\n",
       "  <thead>\n",
       "    <tr style=\"text-align: right;\">\n",
       "      <th></th>\n",
       "      <th>PatientID</th>\n",
       "      <th>Sex</th>\n",
       "      <th>MaritalStatus</th>\n",
       "      <th>VisitDate</th>\n",
       "    </tr>\n",
       "  </thead>\n",
       "  <tbody>\n",
       "    <tr>\n",
       "      <th>2</th>\n",
       "      <td>02-02-0200-003397</td>\n",
       "      <td>Female</td>\n",
       "      <td>M</td>\n",
       "      <td>2022-07-22</td>\n",
       "    </tr>\n",
       "    <tr>\n",
       "      <th>9</th>\n",
       "      <td>02-02-0200-008937</td>\n",
       "      <td>Female</td>\n",
       "      <td>M</td>\n",
       "      <td>2022-01-20</td>\n",
       "    </tr>\n",
       "    <tr>\n",
       "      <th>14</th>\n",
       "      <td>02-02-0200-008942</td>\n",
       "      <td>Female</td>\n",
       "      <td>M</td>\n",
       "      <td>2022-02-04</td>\n",
       "    </tr>\n",
       "    <tr>\n",
       "      <th>21</th>\n",
       "      <td>02-02-0200-008949</td>\n",
       "      <td>Female</td>\n",
       "      <td>M</td>\n",
       "      <td>2022-02-11</td>\n",
       "    </tr>\n",
       "    <tr>\n",
       "      <th>28</th>\n",
       "      <td>02-02-0200-008956</td>\n",
       "      <td>Female</td>\n",
       "      <td>M</td>\n",
       "      <td>2022-03-04</td>\n",
       "    </tr>\n",
       "    <tr>\n",
       "      <th>...</th>\n",
       "      <td>...</td>\n",
       "      <td>...</td>\n",
       "      <td>...</td>\n",
       "      <td>...</td>\n",
       "    </tr>\n",
       "    <tr>\n",
       "      <th>307</th>\n",
       "      <td>02-02-0200-009238</td>\n",
       "      <td>Female</td>\n",
       "      <td>M</td>\n",
       "      <td>2023-06-16</td>\n",
       "    </tr>\n",
       "    <tr>\n",
       "      <th>308</th>\n",
       "      <td>02-02-0200-009239</td>\n",
       "      <td>Female</td>\n",
       "      <td>M</td>\n",
       "      <td>2023-06-21</td>\n",
       "    </tr>\n",
       "    <tr>\n",
       "      <th>312</th>\n",
       "      <td>02-02-0200-009243</td>\n",
       "      <td>Female</td>\n",
       "      <td>M</td>\n",
       "      <td>2023-06-26</td>\n",
       "    </tr>\n",
       "    <tr>\n",
       "      <th>313</th>\n",
       "      <td>02-02-0200-009244</td>\n",
       "      <td>Female</td>\n",
       "      <td>M</td>\n",
       "      <td>2023-06-30</td>\n",
       "    </tr>\n",
       "    <tr>\n",
       "      <th>317</th>\n",
       "      <td>13-01-0100-000346</td>\n",
       "      <td>Female</td>\n",
       "      <td>M</td>\n",
       "      <td>2022-09-29</td>\n",
       "    </tr>\n",
       "  </tbody>\n",
       "</table>\n",
       "<p>122 rows × 4 columns</p>\n",
       "</div>"
      ],
      "text/plain": [
       "             PatientID     Sex MaritalStatus  VisitDate\n",
       "2    02-02-0200-003397  Female             M 2022-07-22\n",
       "9    02-02-0200-008937  Female             M 2022-01-20\n",
       "14   02-02-0200-008942  Female             M 2022-02-04\n",
       "21   02-02-0200-008949  Female             M 2022-02-11\n",
       "28   02-02-0200-008956  Female             M 2022-03-04\n",
       "..                 ...     ...           ...        ...\n",
       "307  02-02-0200-009238  Female             M 2023-06-16\n",
       "308  02-02-0200-009239  Female             M 2023-06-21\n",
       "312  02-02-0200-009243  Female             M 2023-06-26\n",
       "313  02-02-0200-009244  Female             M 2023-06-30\n",
       "317  13-01-0100-000346  Female             M 2022-09-29\n",
       "\n",
       "[122 rows x 4 columns]"
      ]
     },
     "execution_count": 47,
     "metadata": {},
     "output_type": "execute_result"
    }
   ],
   "source": [
    "filtered_df"
   ]
  },
  {
   "cell_type": "code",
   "execution_count": null,
   "id": "5dd7cbd8-d01e-4f75-ba9b-8e579242ce78",
   "metadata": {},
   "outputs": [],
   "source": [
    "filtered_df['P]"
   ]
  }
 ],
 "metadata": {
  "kernelspec": {
   "display_name": "Python 3 (ipykernel)",
   "language": "python",
   "name": "python3"
  },
  "language_info": {
   "codemirror_mode": {
    "name": "ipython",
    "version": 3
   },
   "file_extension": ".py",
   "mimetype": "text/x-python",
   "name": "python",
   "nbconvert_exporter": "python",
   "pygments_lexer": "ipython3",
   "version": "3.10.9"
  }
 },
 "nbformat": 4,
 "nbformat_minor": 5
}
