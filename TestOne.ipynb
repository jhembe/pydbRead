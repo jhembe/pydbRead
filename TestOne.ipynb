{
 "cells": [
  {
   "cell_type": "code",
   "execution_count": 1,
   "id": "31c51ff2-f117-4ca4-a000-277fedc05c79",
   "metadata": {},
   "outputs": [],
   "source": [
    "import pyodbc\n",
    "import numpy as np\n",
    "import pandas as pd"
   ]
  },
  {
   "cell_type": "code",
   "execution_count": 2,
   "id": "462e5870-9abc-4f42-aed4-c7e0e2d93ec4",
   "metadata": {},
   "outputs": [],
   "source": [
    "conn = pyodbc.connect(r'DRIVER={Microsoft Access Driver (*.mdb, *.accdb)};DBQ=C:\\Users\\jhemb\\Desktop\\seha2731.mdb')"
   ]
  },
  {
   "cell_type": "code",
   "execution_count": 16,
   "id": "f2649a17-edc8-4156-87f7-3796fbbd6576",
   "metadata": {},
   "outputs": [
    {
     "data": {
      "text/plain": [
       "<pyodbc.Connection at 0x2031d668850>"
      ]
     },
     "execution_count": 16,
     "metadata": {},
     "output_type": "execute_result"
    }
   ],
   "source": [
    "conn"
   ]
  },
  {
   "cell_type": "code",
   "execution_count": 42,
   "id": "9652e1fb-8fcf-4775-aeb1-fbdc67460445",
   "metadata": {},
   "outputs": [
    {
     "data": {
      "text/plain": [
       "<pyodbc.Cursor at 0x192c9f47d30>"
      ]
     },
     "execution_count": 42,
     "metadata": {},
     "output_type": "execute_result"
    }
   ],
   "source": [
    "cursor = conn.cursor()\n",
    "cursor.execute('SELECT MaritalStatus,Sex FROM tblPatients;')\n",
    "# cursor.execute('SELECT tblPatients.MaritalStatus,tblFamilyInfo.RelativeType FROM tblPatients INNER JOIN tblFamilyInfo ON tblPatients.patientID = tblFamilyInfo.patientID;')"
   ]
  },
  {
   "cell_type": "code",
   "execution_count": 43,
   "id": "f86fb661-b980-44cd-a827-f8a81e448c0d",
   "metadata": {},
   "outputs": [],
   "source": [
    "data = cursor.fetchall()"
   ]
  },
  {
   "cell_type": "code",
   "execution_count": null,
   "id": "09d1030d-8603-468f-a87b-7bf0f1ca4b61",
   "metadata": {},
   "outputs": [],
   "source": []
  },
  {
   "cell_type": "code",
   "execution_count": 53,
   "id": "6afd71d7-dc17-4a87-939f-4e3fad547d53",
   "metadata": {},
   "outputs": [],
   "source": [
    "column_names = tuple([desc[0] for desc in cursor.description])"
   ]
  },
  {
   "cell_type": "code",
   "execution_count": 54,
   "id": "60b196d4-ebbc-4536-9986-ff6996198123",
   "metadata": {},
   "outputs": [
    {
     "data": {
      "text/plain": [
       "('MaritalStatus', 'Sex')"
      ]
     },
     "execution_count": 54,
     "metadata": {},
     "output_type": "execute_result"
    }
   ],
   "source": [
    "tuple(column_names)"
   ]
  },
  {
   "cell_type": "code",
   "execution_count": 56,
   "id": "1cfcac7d-26c0-4f70-9005-7ca5489a71ce",
   "metadata": {},
   "outputs": [
    {
     "data": {
      "text/plain": [
       "('MaritalStatus', 'Sex')"
      ]
     },
     "execution_count": 56,
     "metadata": {},
     "output_type": "execute_result"
    }
   ],
   "source": [
    "column_names"
   ]
  },
  {
   "cell_type": "code",
   "execution_count": 63,
   "id": "73f37dd8-d6e2-4534-9884-8d075226fa4a",
   "metadata": {},
   "outputs": [],
   "source": [
    "df = pd.DataFrame(np.array(data),columns=column_names)"
   ]
  },
  {
   "cell_type": "code",
   "execution_count": 64,
   "id": "2f422c33-52cb-4e82-9bb0-6807821f51b9",
   "metadata": {},
   "outputs": [
    {
     "data": {
      "text/html": [
       "<div>\n",
       "<style scoped>\n",
       "    .dataframe tbody tr th:only-of-type {\n",
       "        vertical-align: middle;\n",
       "    }\n",
       "\n",
       "    .dataframe tbody tr th {\n",
       "        vertical-align: top;\n",
       "    }\n",
       "\n",
       "    .dataframe thead th {\n",
       "        text-align: right;\n",
       "    }\n",
       "</style>\n",
       "<table border=\"1\" class=\"dataframe\">\n",
       "  <thead>\n",
       "    <tr style=\"text-align: right;\">\n",
       "      <th></th>\n",
       "      <th>MaritalStatus</th>\n",
       "      <th>Sex</th>\n",
       "    </tr>\n",
       "  </thead>\n",
       "  <tbody>\n",
       "    <tr>\n",
       "      <th>0</th>\n",
       "      <td>W</td>\n",
       "      <td>Male</td>\n",
       "    </tr>\n",
       "    <tr>\n",
       "      <th>1</th>\n",
       "      <td>CO</td>\n",
       "      <td>Female</td>\n",
       "    </tr>\n",
       "    <tr>\n",
       "      <th>2</th>\n",
       "      <td>D</td>\n",
       "      <td>Female</td>\n",
       "    </tr>\n",
       "    <tr>\n",
       "      <th>3</th>\n",
       "      <td>D</td>\n",
       "      <td>Female</td>\n",
       "    </tr>\n",
       "    <tr>\n",
       "      <th>4</th>\n",
       "      <td>M</td>\n",
       "      <td>Male</td>\n",
       "    </tr>\n",
       "    <tr>\n",
       "      <th>...</th>\n",
       "      <td>...</td>\n",
       "      <td>...</td>\n",
       "    </tr>\n",
       "    <tr>\n",
       "      <th>10151</th>\n",
       "      <td>S</td>\n",
       "      <td>Male</td>\n",
       "    </tr>\n",
       "    <tr>\n",
       "      <th>10152</th>\n",
       "      <td>S</td>\n",
       "      <td>Female</td>\n",
       "    </tr>\n",
       "    <tr>\n",
       "      <th>10153</th>\n",
       "      <td>S</td>\n",
       "      <td>Female</td>\n",
       "    </tr>\n",
       "    <tr>\n",
       "      <th>10154</th>\n",
       "      <td>M</td>\n",
       "      <td>Female</td>\n",
       "    </tr>\n",
       "    <tr>\n",
       "      <th>10155</th>\n",
       "      <td>M</td>\n",
       "      <td>Female</td>\n",
       "    </tr>\n",
       "  </tbody>\n",
       "</table>\n",
       "<p>10156 rows × 2 columns</p>\n",
       "</div>"
      ],
      "text/plain": [
       "      MaritalStatus     Sex\n",
       "0                 W    Male\n",
       "1                CO  Female\n",
       "2                 D  Female\n",
       "3                 D  Female\n",
       "4                 M    Male\n",
       "...             ...     ...\n",
       "10151             S    Male\n",
       "10152             S  Female\n",
       "10153             S  Female\n",
       "10154             M  Female\n",
       "10155             M  Female\n",
       "\n",
       "[10156 rows x 2 columns]"
      ]
     },
     "execution_count": 64,
     "metadata": {},
     "output_type": "execute_result"
    }
   ],
   "source": [
    "df"
   ]
  },
  {
   "cell_type": "code",
   "execution_count": 65,
   "id": "705a523e-f554-4843-b8a3-b1b51c54353d",
   "metadata": {},
   "outputs": [
    {
     "data": {
      "text/plain": [
       "0          Male\n",
       "1        Female\n",
       "2        Female\n",
       "3        Female\n",
       "4          Male\n",
       "          ...  \n",
       "10151      Male\n",
       "10152    Female\n",
       "10153    Female\n",
       "10154    Female\n",
       "10155    Female\n",
       "Name: Sex, Length: 10156, dtype: object"
      ]
     },
     "execution_count": 65,
     "metadata": {},
     "output_type": "execute_result"
    }
   ],
   "source": [
    "df.to_csv("
   ]
  },
  {
   "cell_type": "code",
   "execution_count": 69,
   "id": "0a733b44-6e46-448a-adef-83c9a54238cb",
   "metadata": {},
   "outputs": [
    {
     "data": {
      "text/plain": [
       "M     5056\n",
       "S     2267\n",
       "D      963\n",
       "W      751\n",
       "CO     211\n",
       "C       98\n",
       "c        3\n",
       "Name: MaritalStatus, dtype: int64"
      ]
     },
     "execution_count": 69,
     "metadata": {},
     "output_type": "execute_result"
    }
   ],
   "source": [
    "# To see the distribution of calues in the marital status column, we use :\n",
    "df['MaritalStatus'].value_counts()"
   ]
  },
  {
   "cell_type": "code",
   "execution_count": 70,
   "id": "30afc126-5a4f-4100-92de-b80650e0b907",
   "metadata": {},
   "outputs": [
    {
     "data": {
      "text/plain": [
       "Female    6989\n",
       "Male      3167\n",
       "Name: Sex, dtype: int64"
      ]
     },
     "execution_count": 70,
     "metadata": {},
     "output_type": "execute_result"
    }
   ],
   "source": [
    "# To see the distribution of sex in our dataset we use\n",
    "df['Sex'].value_counts()"
   ]
  },
  {
   "cell_type": "code",
   "execution_count": 73,
   "id": "7d26981c-1eed-424b-9f82-7c3a1a6fe717",
   "metadata": {},
   "outputs": [],
   "source": [
    "#  We can filter rows based on conditions like gender.\n",
    "male_data = df[df['Sex'] == 'Male']"
   ]
  },
  {
   "cell_type": "code",
   "execution_count": 74,
   "id": "73aab91e-38a8-43ef-bcd2-9766e96c2519",
   "metadata": {},
   "outputs": [
    {
     "data": {
      "text/plain": [
       "M     1754\n",
       "S      658\n",
       "D      211\n",
       "W      138\n",
       "CO      74\n",
       "C       56\n",
       "c        2\n",
       "Name: MaritalStatus, dtype: int64"
      ]
     },
     "execution_count": 74,
     "metadata": {},
     "output_type": "execute_result"
    }
   ],
   "source": [
    "male_data['MaritalStatus'].value_counts()"
   ]
  },
  {
   "cell_type": "code",
   "execution_count": 75,
   "id": "0dd8e2bc-bc9e-4e96-95cb-2b3424532b0e",
   "metadata": {},
   "outputs": [],
   "source": [
    "# Now let's use matplotlib to visualize our marital status distribution among patients"
   ]
  },
  {
   "cell_type": "code",
   "execution_count": 76,
   "id": "39b01ae0-d8f5-4828-9cde-0d2e697b781f",
   "metadata": {},
   "outputs": [
    {
     "name": "stderr",
     "output_type": "stream",
     "text": [
      "Matplotlib is building the font cache; this may take a moment.\n"
     ]
    }
   ],
   "source": [
    "import matplotlib.pyplot as plt"
   ]
  },
  {
   "cell_type": "code",
   "execution_count": 77,
   "id": "0daa897a-63a0-465c-8ce7-c9fd8d557556",
   "metadata": {},
   "outputs": [],
   "source": [
    "# Calculating the distribution of marital statuses in male data\n",
    "marital_status_counts = male_data['MaritalStatus'].value_counts()"
   ]
  },
  {
   "cell_type": "code",
   "execution_count": 79,
   "id": "699c55ef-70a6-4d87-8bb5-7882c0560189",
   "metadata": {},
   "outputs": [
    {
     "data": {
      "text/plain": [
       "(-1.099998512526387,\n",
       " 1.0999998571205187,\n",
       " -1.0999994415990557,\n",
       " 1.099999965636963)"
      ]
     },
     "execution_count": 79,
     "metadata": {},
     "output_type": "execute_result"
    },
    {
     "data": {
      "image/png": "[encoded data removed]",
      "text/plain": [
       "<Figure size 1000x800 with 1 Axes>"
      ]
     },
     "metadata": {},
     "output_type": "display_data"
    }
   ],
   "source": [
    "# creating a pie chart\n",
    "plt.figure(figsize=(10,8))\n",
    "plt.pie(marital_status_counts,labels=marital_status_counts.index,autopct='%1.1f%%',startangle=140)\n",
    "plt.title('Distribution of Marital Status Among Males Patients')\n",
    "plt.axis('equal') # equal aspect ration to ensure pie chart is drawn as a circle"
   ]
  },
  {
   "cell_type": "code",
   "execution_count": null,
   "id": "1ca42df0-c536-4976-ba46-68660e189d77",
   "metadata": {},
   "outputs": [],
   "source": []
  }
 ],
 "metadata": {
  "kernelspec": {
   "display_name": "Python 3 (ipykernel)",
   "language": "python",
   "name": "python3"
  },
  "language_info": {
   "codemirror_mode": {
    "name": "ipython",
    "version": 3
   },
   "file_extension": ".py",
   "mimetype": "text/x-python",
   "name": "python",
   "nbconvert_exporter": "python",
   "pygments_lexer": "ipython3",
   "version": "3.10.9"
  }
 },
 "nbformat": 4,
 "nbformat_minor": 5
}
